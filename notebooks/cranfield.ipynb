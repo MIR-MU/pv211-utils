{
  "cells": [
    {
      "cell_type": "markdown",
      "metadata": {
        "id": "cfQo2UKpZ9jT"
      },
      "source": [
        "# First Term Project: Cranfield Collection\n",
        "“The Cranfield collection [...] was the pioneering test collection in allowing CRANFIELD precise quantitative measures of information retrieval effectiveness [...]. Collected in the United Kingdom starting in the late 1950s, it contains 1398 abstracts of aerodynamics journal articles, a set of 225 queries, and exhaustive relevance judgments of all (query, document) pairs.” [1, Section 8.2]\n",
        "\n",
        "Your tasks, reviewed by your colleagues and the course instructors, are the following:\n",
        "\n",
        "1.   *Implement an unsupervised ranked retrieval system*, [1, Chapter 6] which will produce a list of documents from the Cranfield collection in a descending order of relevance to a query from the Cranfield collection. You MUST NOT use relevance judgements from the Cranfield collection in your information retrieval system. Relevance judgements MUST only be used for the evaluation of your information retrieval system.\n",
        "\n",
        "2.   *Document your code* in accordance with [PEP 257](https://www.python.org/dev/peps/pep-0257/), ideally using [the NumPy style guide](https://numpydoc.readthedocs.io/en/latest/format.html#docstring-standard) as seen in the code from exercises.  \n",
        "     *Stick to a consistent coding style* in accordance with [PEP 8](https://www.python.org/dev/peps/pep-0008/).\n",
        "\n",
        "3.   *Reach at least 22% mean average precision* [1, Section 8.4] with your system on the Cranfield collection. You MUST record your score either in [the public leaderboard](https://docs.google.com/spreadsheets/d/e/2PACX-1vT0FoFzCptIYKDsbcv8LebhZDe_20GFeBAPmS-VyImlWbqET0T7I2iWy59p9SHbUe3LX1yJMhALPcCY/pubhtml) or in this Jupyter notebook. You are encouraged to use techniques for tokenization, [1, Section 2.2] document representation [1, Section 6.4], tolerant retrieval [1, Chapter 3], relevance feedback and query expansion, [1, Chapter 9] and others discussed in the course.\n",
        "\n",
        "4.   _[Upload an .ipynb file](https://is.muni.cz/help/komunikace/spravcesouboru#k_ss_1) with this Jupyter notebook to the homework vault in IS MU._ You MAY also include a brief description of your information retrieval system and a link to an external service such as [Google Colaboratory](https://colab.research.google.com/), [DeepNote](https://deepnote.com/), or [JupyterHub](https://iirhub.cloud.e-infra.cz/).\n",
        "\n",
        "[1] Manning, Christopher D., Prabhakar Raghavan, and Hinrich Schütze. [*Introduction to information retrieval*](https://nlp.stanford.edu/IR-book/pdf/irbookonlinereading.pdf). Cambridge university press, 2008."
      ]
    },
    {
      "cell_type": "markdown",
      "metadata": {
        "id": "xmpR8qpTZwyP"
      },
      "source": [
        "## Loading the Cranfield collection\n",
        "\n",
        "First, we will install [our library](https://gitlab.fi.muni.cz/xstefan3/pv211-utils) and load the Cranfield collection."
      ]
    },
    {
      "cell_type": "code",
      "execution_count": null,
      "metadata": {
        "id": "inUAfc6TQMVJ"
      },
      "outputs": [],
      "source": [
        "%%capture\n",
        "! pip install git+https://github.com/MIR-MU/pv211-utils.git@developer"
      ]
    },
    {
      "cell_type": "markdown",
      "metadata": {
        "id": "y845E0ePZqeH"
      },
      "source": [
        "### Loading the documents\n",
        "\n",
        "Next, we will define a class named `Document` that will represent a preprocessed document from the Cranfield collection. Tokenization and preprocessing of the `title` and `body` attributes of the individual documents as well as the creative use of the `authors`, `bibliography`, and `title` attributes is left to your imagination and craftsmanship."
      ]
    },
    {
      "cell_type": "code",
      "execution_count": null,
      "metadata": {
        "id": "fyAqWIQyINng"
      },
      "outputs": [],
      "source": [
        "from pv211_utils.cranfield.entities import CranfieldDocumentBase\n",
        "\n",
        "class Document(CranfieldDocumentBase):\n",
        "    \"\"\"\n",
        "    A preprocessed Cranfield collection document.\n",
        "\n",
        "    Parameters\n",
        "    ----------\n",
        "    document_id : str\n",
        "        A unique identifier of the document.\n",
        "    authors : list of str\n",
        "        A unique identifiers of the authors of the document.\n",
        "    bibliography : str\n",
        "        The bibliographical entry for the document.\n",
        "    title : str\n",
        "        The title of the document.\n",
        "    body : str\n",
        "        The abstract of the document.\n",
        "\n",
        "    \"\"\"\n",
        "    def __init__(self, document_id: str, authors: str, bibliography: str, title: str, body: str):\n",
        "        super().__init__(document_id, authors, bibliography, title, body)\n",
        "    \n",
        "    def __str__(self):\n",
        "        return f\"{self.title} {self.body}\""
      ]
    },
    {
      "cell_type": "markdown",
      "metadata": {
        "id": "gwnMPmFjK_FQ"
      },
      "source": [
        "We will load documents into the `documents` [ordered dictionary](https://docs.python.org/3.8/library/collections.html#collections.OrderedDict). Each document is an instance of the `Document` class that we have just defined."
      ]
    },
    {
      "cell_type": "code",
      "execution_count": null,
      "metadata": {
        "id": "HfRrW7O6U5wb"
      },
      "outputs": [],
      "source": [
        "from pv211_utils.datasets import CranfieldDataset\n",
        "\n",
        "cranfield = CranfieldDataset()\n",
        "\n",
        "documents = cranfield.load_documents(Document)"
      ]
    },
    {
      "cell_type": "code",
      "execution_count": null,
      "metadata": {
        "id": "DkeKUsWWWnb9"
      },
      "outputs": [],
      "source": [
        "print('\\n'.join(repr(document) for document in list(documents.values())[:3]))\n",
        "print('...')\n",
        "print('\\n'.join(repr(document) for document in list(documents.values())[-3:]))"
      ]
    },
    {
      "cell_type": "code",
      "execution_count": null,
      "metadata": {
        "id": "kvsnuhT3ZZAo"
      },
      "outputs": [],
      "source": [
        "document = documents['14']\n",
        "document"
      ]
    },
    {
      "cell_type": "code",
      "execution_count": null,
      "metadata": {
        "id": "e-zw68v5Xoh5"
      },
      "outputs": [],
      "source": [
        "print(document.authors)"
      ]
    },
    {
      "cell_type": "code",
      "execution_count": null,
      "metadata": {
        "id": "p13FfuduZSRK"
      },
      "outputs": [],
      "source": [
        "print(document.bibliography)"
      ]
    },
    {
      "cell_type": "code",
      "execution_count": null,
      "metadata": {
        "id": "z5bmj4WzZc9e"
      },
      "outputs": [],
      "source": [
        "print(document.title)"
      ]
    },
    {
      "cell_type": "code",
      "execution_count": null,
      "metadata": {
        "id": "W3z7ed8SZkn6"
      },
      "outputs": [],
      "source": [
        "print(document.body)"
      ]
    },
    {
      "cell_type": "markdown",
      "metadata": {
        "id": "CwYwHs-MpD1_"
      },
      "source": [
        "### Loading the queries\n",
        "Next, we will define a class named `Query` that will represent a preprocessed query from the Cranfield collection. Tokenization and preprocessing of the `body` attribute of the individual queries is left to your craftsmanship."
      ]
    },
    {
      "cell_type": "code",
      "execution_count": null,
      "metadata": {
        "id": "oaCFkMFdKjST"
      },
      "outputs": [],
      "source": [
        "from pv211_utils.cranfield.entities import CranfieldQueryBase\n",
        "\n",
        "class Query(CranfieldQueryBase):\n",
        "    \"\"\"\n",
        "    A preprocessed Cranfield collection query.\n",
        "\n",
        "    Parameters\n",
        "    ----------\n",
        "    query_id : int\n",
        "        A unique identifier of the query.\n",
        "    body : str\n",
        "        The text of the query.\n",
        "\n",
        "    \"\"\"\n",
        "    def __init__(self, query_id: int, body: str):\n",
        "        super().__init__(query_id, body)\n",
        "    \n",
        "    def __str__(self):\n",
        "        return self.body"
      ]
    },
    {
      "cell_type": "markdown",
      "metadata": {
        "id": "a-aAREbRMXeJ"
      },
      "source": [
        "We will load queries into the `queries` [ordered dictionary](https://docs.python.org/3.8/library/collections.html#collections.OrderedDict). Each query is an instance of the `Query` class that we have just defined."
      ]
    },
    {
      "cell_type": "code",
      "execution_count": null,
      "metadata": {
        "id": "8qcyQUNRqRTr"
      },
      "outputs": [],
      "source": [
        "queries = cranfield.load_test_queries(Query)"
      ]
    },
    {
      "cell_type": "code",
      "execution_count": null,
      "metadata": {
        "id": "IW-N6g3LqwPZ"
      },
      "outputs": [],
      "source": [
        "print('\\n'.join(repr(query) for query in list(queries.values())[:3]))\n",
        "print('...')\n",
        "print('\\n'.join(repr(query) for query in list(queries.values())[-3:]))"
      ]
    },
    {
      "cell_type": "code",
      "execution_count": null,
      "metadata": {
        "id": "VgdHjSYIq5HV"
      },
      "outputs": [],
      "source": [
        "query = queries[14]\n",
        "query"
      ]
    },
    {
      "cell_type": "code",
      "execution_count": null,
      "metadata": {
        "id": "w4NGZOdOq8NF"
      },
      "outputs": [],
      "source": [
        "print(query.body)"
      ]
    },
    {
      "cell_type": "markdown",
      "metadata": {
        "id": "tvCynDQh9IP8"
      },
      "source": [
        "## Implementation of your information retrieval system\n",
        "\n",
        "You can try the [preprocessing][1] and [systems][2] that are [available in our library][1], but feel free to implement your own.\n",
        "\n",
        " [1]: https://github.com/MIR-MU/pv211-utils/tree/main/pv211_utils/preprocessing\n",
        " [2]: https://github.com/MIR-MU/pv211-utils/tree/main/pv211_utils/systems"
      ]
    },
    {
      "cell_type": "code",
      "execution_count": null,
      "metadata": {
        "id": "HRqgBUnh9IP8"
      },
      "outputs": [],
      "source": [
        "from pv211_utils.systems import BoWSystem\n",
        "from pv211_utils.preprocessing.preprocessing import SimpleDocPreprocessing\n",
        "\n",
        "system = BoWSystem(documents, SimpleDocPreprocessing())"
      ]
    },
    {
      "cell_type": "markdown",
      "metadata": {
        "id": "TwrCzoaZhWi4"
      },
      "source": [
        "## Evaluation\n",
        "Finally, we will evaluate your information retrieval system using [the Mean Average Precision](https://en.wikipedia.org/wiki/Evaluation_measures_(information_retrieval)#Mean_average_precision) (MAP) evaluation measure."
      ]
    },
    {
      "cell_type": "code",
      "execution_count": null,
      "metadata": {
        "id": "ssX-nvxGu3JK"
      },
      "outputs": [],
      "source": [
        "from pv211_utils.cranfield.loader import load_judgements\n",
        "from pv211_utils.cranfield.leaderboard import CranfieldLeaderboard\n",
        "from pv211_utils.cranfield.eval import CranfieldEvaluation\n",
        "\n",
        "submit_result = False\n",
        "author_name = 'Surname, Name'\n",
        "\n",
        "evaluation = CranfieldEvaluation(system, load_judgements(queries, documents),\n",
        "                                 leaderboard=CranfieldLeaderboard(), author_name=author_name)\n",
        "evaluation.evaluate(queries, submit_result)\n"
      ]
    }
  ],
  "metadata": {
    "colab": {
      "collapsed_sections": [
        "y845E0ePZqeH",
        "CwYwHs-MpD1_"
      ],
      "provenance": []
    },
    "kernelspec": {
      "display_name": "Python 3 (ipykernel)",
      "language": "python",
      "name": "python3"
    },
    "language_info": {
      "codemirror_mode": {
        "name": "ipython",
        "version": 3
      },
      "file_extension": ".py",
      "mimetype": "text/x-python",
      "name": "python",
      "nbconvert_exporter": "python",
      "pygments_lexer": "ipython3",
      "version": "3.8.13"
    },
    "vscode": {
      "interpreter": {
        "hash": "4525bb9afa5b11e91ff8883ff1427ebcb57df9afe31e89541862e2caa0e84c72"
      }
    }
  },
  "nbformat": 4,
  "nbformat_minor": 0
}