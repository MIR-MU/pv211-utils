{
 "cells": [
  {
   "cell_type": "markdown",
   "metadata": {
    "id": "cfQo2UKpZ9jT"
   },
   "source": [
    "# First Term Project: Cranfield Collection\n",
    "“The Cranfield collection [...] was the pioneering test collection in allowing CRANFIELD precise quantitative measures of information retrieval effectiveness [...]. Collected in the United Kingdom starting in the late 1950s, it contains 1398 abstracts of aerodynamics journal articles, a set of 225 queries, and exhaustive relevance judgments of all (query, document) pairs.” [1, Section 8.2]\n",
    "\n",
    "Your tasks, reviewed by your colleagues and the course instructors, are the following:\n",
    "\n",
    "1.   *Implement an unsupervised ranked retrieval system*, [1, Chapter 6] which will produce a list of documents from the Cranfield collection in a descending order of relevance to a query from the Cranfield collection. You MUST NOT use relevance judgements from the Cranfield collection in your information retrieval system. Relevance judgements MUST only be used for the evaluation of your information retrieval system.\n",
    "\n",
    "2.   *Document your code* in accordance with [PEP 257](https://www.python.org/dev/peps/pep-0257/), ideally using [the NumPy style guide](https://numpydoc.readthedocs.io/en/latest/format.html#docstring-standard) as seen in the code from exercises.  \n",
    "     *Stick to a consistent coding style* in accordance with [PEP 8](https://www.python.org/dev/peps/pep-0008/).\n",
    "\n",
    "3.   *Reach at least 22% mean average precision* [1, Section 8.4] with your system on the Cranfield collection. You MUST record your score either in [the public leaderboard](https://docs.google.com/spreadsheets/d/e/2PACX-1vT0FoFzCptIYKDsbcv8LebhZDe_20GFeBAPmS-VyImlWbqET0T7I2iWy59p9SHbUe3LX1yJMhALPcCY/pubhtml) or in this Jupyter notebook. You are encouraged to use techniques for tokenization, [1, Section 2.2] document representation [1, Section 6.4], tolerant retrieval [1, Chapter 3], relevance feedback and query expansion, [1, Chapter 9] and others discussed in the course.\n",
    "\n",
    "4.   _[Upload an .ipynb file](https://is.muni.cz/help/komunikace/spravcesouboru#k_ss_1) with this Jupyter notebook to the homework vault in IS MU._ You MAY also include a brief description of your information retrieval system and a link to an external service such as [Google Colaboratory](https://colab.research.google.com/), [DeepNote](https://deepnote.com/), or [JupyterHub](https://iirhub.cloud.e-infra.cz/).\n",
    "\n",
    "[1] Manning, Christopher D., Prabhakar Raghavan, and Hinrich Schütze. [*Introduction to information retrieval*](https://nlp.stanford.edu/IR-book/pdf/irbookonlinereading.pdf). Cambridge university press, 2008."
   ]
  },
  {
   "cell_type": "markdown",
   "metadata": {
    "id": "xmpR8qpTZwyP"
   },
   "source": [
    "## Loading the Cranfield collection\n",
    "\n",
    "First, we will install [our library](https://gitlab.fi.muni.cz/xstefan3/pv211-utils) and load the Cranfield collection."
   ]
  },
  {
   "cell_type": "code",
   "execution_count": 1,
   "metadata": {
    "id": "inUAfc6TQMVJ"
   },
   "outputs": [],
   "source": [
    "%%capture\n",
    "! pip install git+https://github.com/MIR-MU/pv211-utils.git"
   ]
  },
  {
   "cell_type": "markdown",
   "metadata": {
    "id": "y845E0ePZqeH"
   },
   "source": [
    "### Loading the documents\n",
    "\n",
    "Next, we will define a class named `Document` that will represent a preprocessed document from the Cranfield collection. Tokenization and preprocessing of the `title` and `body` attributes of the individual documents as well as the creative use of the `authors`, `bibliography`, and `title` attributes is left to your imagination and craftsmanship."
   ]
  },
  {
   "cell_type": "code",
   "execution_count": 2,
   "metadata": {
    "id": "fyAqWIQyINng"
   },
   "outputs": [],
   "source": [
    "from pv211_utils.cranfield.entities import CranfieldDocumentBase\n",
    "\n",
    "class Document(CranfieldDocumentBase):\n",
    "    \"\"\"\n",
    "    A preprocessed Cranfield collection document.\n",
    "\n",
    "    Parameters\n",
    "    ----------\n",
    "    document_id : str\n",
    "        A unique identifier of the document.\n",
    "    authors : list of str\n",
    "        A unique identifiers of the authors of the document.\n",
    "    bibliography : str\n",
    "        The bibliographical entry for the document.\n",
    "    title : str\n",
    "        The title of the document.\n",
    "    body : str\n",
    "        The abstract of the document.\n",
    "\n",
    "    \"\"\"\n",
    "    def __init__(self, document_id: str, authors: str, bibliography: str, title: str, body: str):\n",
    "        super().__init__(document_id, authors, bibliography, title, body)\n",
    "    \n",
    "    def __str__(self):\n",
    "        return f\"{self.title} {self.body}\""
   ]
  },
  {
   "cell_type": "markdown",
   "metadata": {
    "id": "gwnMPmFjK_FQ"
   },
   "source": [
    "We will load documents into the `documents` [ordered dictionary](https://docs.python.org/3.8/library/collections.html#collections.OrderedDict). Each document is an instance of the `Document` class that we have just defined."
   ]
  },
  {
   "cell_type": "code",
   "execution_count": 3,
   "metadata": {
    "id": "HfRrW7O6U5wb"
   },
   "outputs": [
    {
     "name": "stderr",
     "output_type": "stream",
     "text": [
      "/home/jovyan/.local/lib/python3.8/site-packages/beir/util.py:2: TqdmExperimentalWarning: Using `tqdm.autonotebook.tqdm` in notebook mode. Use `tqdm.tqdm` instead to force console mode (e.g. in jupyter console)\n",
      "  from tqdm.autonotebook import tqdm\n"
     ]
    }
   ],
   "source": [
    "from pv211_utils.datasets import CranfieldDataset\n",
    "\n",
    "cranfield = CranfieldDataset()\n",
    "\n",
    "documents = cranfield.load_documents(Document)"
   ]
  },
  {
   "cell_type": "code",
   "execution_count": 4,
   "metadata": {
    "id": "DkeKUsWWWnb9"
   },
   "outputs": [
    {
     "name": "stdout",
     "output_type": "stream",
     "text": [
      "<Document 1 “experimental investigation of the aerodynamics of  ...”>\n",
      "<Document 2 “simple shear flow past a flat plate in an incompre ...”>\n",
      "<Document 3 “the boundary layer in simple shear flow past a fla ...”>\n",
      "...\n",
      "<Document 1398 “stability of rectangular plates under shear and be ...”>\n",
      "<Document 1399 “buckling of transverse stiffened plates under shea ...”>\n",
      "<Document 1400 “the buckling shear stress of simply-supported infi ...”>\n"
     ]
    }
   ],
   "source": [
    "print('\\n'.join(repr(document) for document in list(documents.values())[:3]))\n",
    "print('...')\n",
    "print('\\n'.join(repr(document) for document in list(documents.values())[-3:]))"
   ]
  },
  {
   "cell_type": "code",
   "execution_count": 5,
   "metadata": {
    "id": "kvsnuhT3ZZAo"
   },
   "outputs": [
    {
     "data": {
      "text/plain": [
       "<Document 14 “piston theory - a new aerodynamic tool for the aer ...”>"
      ]
     },
     "execution_count": 5,
     "metadata": {},
     "output_type": "execute_result"
    }
   ],
   "source": [
    "document = documents['14']\n",
    "document"
   ]
  },
  {
   "cell_type": "code",
   "execution_count": 6,
   "metadata": {
    "id": "e-zw68v5Xoh5"
   },
   "outputs": [
    {
     "name": "stdout",
     "output_type": "stream",
     "text": [
      "ashley,h. and zartarian,g.\n"
     ]
    }
   ],
   "source": [
    "print(document.authors)"
   ]
  },
  {
   "cell_type": "code",
   "execution_count": 7,
   "metadata": {
    "id": "p13FfuduZSRK"
   },
   "outputs": [
    {
     "name": "stdout",
     "output_type": "stream",
     "text": [
      "j. ae. scs. 23, 1956, 1109.\n"
     ]
    }
   ],
   "source": [
    "print(document.bibliography)"
   ]
  },
  {
   "cell_type": "code",
   "execution_count": 8,
   "metadata": {
    "id": "z5bmj4WzZc9e"
   },
   "outputs": [
    {
     "name": "stdout",
     "output_type": "stream",
     "text": [
      "piston theory - a new aerodynamic tool for the aeroelastician .\n"
     ]
    }
   ],
   "source": [
    "print(document.title)"
   ]
  },
  {
   "cell_type": "code",
   "execution_count": 9,
   "metadata": {
    "id": "W3z7ed8SZkn6"
   },
   "outputs": [
    {
     "name": "stdout",
     "output_type": "stream",
     "text": [
      "piston theory - a new aerodynamic tool for the aeroelastician .   representative applications are described which illustrate the extent to which simplifications in the solutions of high-speed unsteady aeroelastic problems can be achieved through the use of certain aerodynamic techniques known collectively as /piston theory ./  based on a physical model originally proposed by hayes and lighthill, piston theory for airfoils and finite wings has been systematically developed by landahl, utilizing expansions in powers of the thickness ratio and the inverse of the flight mach number m .  when contributions of orders and are negligible, the theory predicts a point-function relationship between the local pressure on the surface of a wing and the normal component of fluid velocity produced by the wing's motion .  the computation of generalized forces in aeroelastic equations, such as the flutter determinant, is then always reduced to elementary integrations of the assumed modes of motion .   essentially closed-form solutions are given for the bending- torsion and control-surface flutter properties of typical section airfoils at high mach numbers .  these agree well with results of more exact theories wherever comparisons can be fairly made . moreover, they demonstrate the increasingly important influence of thickness and profile shape as m grows larger, a discovery that would be almost impossible using other available aerodynamic tools .  the complexity of more practical flutter analyses-e.g., on three-dimensional wings and panels-is shown to be substantially reduced by piston theory .  an iterative procedure is outlined, by which improved flutter eigenvalues can be found through the successive introduction of higher-order terms in and  .   other applications to unsteady supersonic problems are reviewed, including gust response and rapid maneuvers of elastic aircraft .  steady-state aeroelastic calculations are also discussed, but for them piston theory amounts only to a slight modification of ackeret's formulas .   suggestions are made regarding future research based on the new aerodynamic method, with particular emphasis on areas where computational labor can be reduced with a minimum loss of precision .  it is pointed out that a mach number zone exists where thermal effects are appreciable but nonlinear viscous interactions may be neglected, and that in this zone piston theory is the logical way of estimating air loads when analyzing aerodynamic- thermoelastic interaction problems .\n"
     ]
    }
   ],
   "source": [
    "print(document.body)"
   ]
  },
  {
   "cell_type": "markdown",
   "metadata": {
    "id": "CwYwHs-MpD1_"
   },
   "source": [
    "### Loading the queries\n",
    "Next, we will define a class named `Query` that will represent a preprocessed query from the Cranfield collection. Tokenization and preprocessing of the `body` attribute of the individual queries is left to your craftsmanship."
   ]
  },
  {
   "cell_type": "code",
   "execution_count": 10,
   "metadata": {
    "id": "oaCFkMFdKjST"
   },
   "outputs": [],
   "source": [
    "from pv211_utils.cranfield.entities import CranfieldQueryBase\n",
    "\n",
    "class Query(CranfieldQueryBase):\n",
    "    \"\"\"\n",
    "    A preprocessed Cranfield collection query.\n",
    "\n",
    "    Parameters\n",
    "    ----------\n",
    "    query_id : int\n",
    "        A unique identifier of the query.\n",
    "    body : str\n",
    "        The text of the query.\n",
    "\n",
    "    \"\"\"\n",
    "    def __init__(self, query_id: int, body: str):\n",
    "        super().__init__(query_id, body)\n",
    "    \n",
    "    def __str__(self):\n",
    "        return self.body"
   ]
  },
  {
   "cell_type": "markdown",
   "metadata": {
    "id": "a-aAREbRMXeJ"
   },
   "source": [
    "We will load queries into the `queries` [ordered dictionary](https://docs.python.org/3.8/library/collections.html#collections.OrderedDict). Each query is an instance of the `Query` class that we have just defined."
   ]
  },
  {
   "cell_type": "code",
   "execution_count": 11,
   "metadata": {
    "id": "8qcyQUNRqRTr"
   },
   "outputs": [],
   "source": [
    "queries = cranfield.load_test_queries(Query)"
   ]
  },
  {
   "cell_type": "code",
   "execution_count": 12,
   "metadata": {
    "id": "IW-N6g3LqwPZ"
   },
   "outputs": [
    {
     "name": "stdout",
     "output_type": "stream",
     "text": [
      "<Query 12 “how can the aerodynamic performance of channel flo ...”>\n",
      "<Query 31 “what size of end plate can be safely used to simul ...”>\n",
      "<Query 84 “references on the methods available for accurately ...”>\n",
      "...\n",
      "<Query 16 “can the transverse potential flow about a body of  ...”>\n",
      "<Query 78 “has anyone explained the kink in the surge line of ...”>\n",
      "<Query 146 “does a membrane theory exist by which the behaviou ...”>\n"
     ]
    }
   ],
   "source": [
    "print('\\n'.join(repr(query) for query in list(queries.values())[:3]))\n",
    "print('...')\n",
    "print('\\n'.join(repr(query) for query in list(queries.values())[-3:]))"
   ]
  },
  {
   "cell_type": "code",
   "execution_count": 13,
   "metadata": {
    "id": "VgdHjSYIq5HV"
   },
   "outputs": [
    {
     "data": {
      "text/plain": [
       "<Query 14 “papers on shock-sound wave interaction .”>"
      ]
     },
     "execution_count": 13,
     "metadata": {},
     "output_type": "execute_result"
    }
   ],
   "source": [
    "query = queries[14]\n",
    "query"
   ]
  },
  {
   "cell_type": "code",
   "execution_count": 14,
   "metadata": {
    "id": "w4NGZOdOq8NF"
   },
   "outputs": [
    {
     "name": "stdout",
     "output_type": "stream",
     "text": [
      "papers on shock-sound wave interaction .\n"
     ]
    }
   ],
   "source": [
    "print(query.body)"
   ]
  },
  {
   "cell_type": "markdown",
   "metadata": {},
   "source": [
    "# IR-System\n",
    "\n",
    "You can try preprocessing and systems that are already in `pv211_utils`, but feel free to implement your own.\n"
   ]
  },
  {
   "cell_type": "code",
   "execution_count": 15,
   "metadata": {},
   "outputs": [
    {
     "name": "stderr",
     "output_type": "stream",
     "text": [
      "Building the dictionary: 100%|██████████| 1400/1400 [00:00<00:00, 5077.86it/s]\n",
      "Building the TF-IDF model: 100%|██████████| 1400/1400 [00:00<00:00, 8223.20it/s]\n",
      "Building the TF-IDF index: 100%|██████████| 1400/1400 [00:00<00:00, 2542.12it/s]\n"
     ]
    }
   ],
   "source": [
    "from pv211_utils.systems import TfidfSystem\n",
    "from pv211_utils.preprocessing.preprocessing import SimpleDocPreprocessing\n",
    "\n",
    "system = TfidfSystem(documents, SimpleDocPreprocessing())"
   ]
  },
  {
   "cell_type": "markdown",
   "metadata": {
    "id": "TwrCzoaZhWi4"
   },
   "source": [
    "## Evaluation\n",
    "Finally, we will evaluate your information retrieval system using [the Mean Average Precision](https://en.wikipedia.org/wiki/Evaluation_measures_(information_retrieval)#Mean_average_precision) (MAP) evaluation measure."
   ]
  },
  {
   "cell_type": "code",
   "execution_count": 16,
   "metadata": {
    "id": "ssX-nvxGu3JK"
   },
   "outputs": [
    {
     "data": {
      "text/markdown": [
       "Your system achieved **38.46% MAP score**."
      ],
      "text/plain": [
       "<IPython.core.display.Markdown object>"
      ]
     },
     "metadata": {},
     "output_type": "display_data"
    },
    {
     "data": {
      "text/markdown": [
       "Congratulations, you passed the **22%** minimum! 🥳"
      ],
      "text/plain": [
       "<IPython.core.display.Markdown object>"
      ]
     },
     "metadata": {},
     "output_type": "display_data"
    },
    {
     "data": {
      "text/markdown": [
       "Set `submit_result = True` and write your name to the `author_name` variable to submit your result to [the leaderboard](https://docs.google.com/spreadsheets/d/e/2PACX-1vSXuOTclZfHWYxh2rf7hfMeLvcCuE5UsJu7BzteyunhPw3z4YNZjCovjmMB6SnDdgjGyenOgdochaEq/pubhtml). 🏆\n",
       "\n",
       "The best submissions on the leaderboard will receive *small awards during the semester*, and some *__seriously big__ awards* after the personal check at the end of the competition (2023-03-13). Please be polite, do not spoil the game for the others, and **have fun!** 😉"
      ],
      "text/plain": [
       "<IPython.core.display.Markdown object>"
      ]
     },
     "metadata": {},
     "output_type": "display_data"
    }
   ],
   "source": [
    "from pv211_utils.cranfield.loader import load_judgements\n",
    "from pv211_utils.cranfield.leaderboard import CranfieldLeaderboard\n",
    "from pv211_utils.cranfield.eval import CranfieldEvaluation\n",
    "\n",
    "submit_result = False\n",
    "author_name = 'Surname, Name'\n",
    "\n",
    "evaluation = CranfieldEvaluation(system, load_judgements(queries, documents),\n",
    "                                 leaderboard=CranfieldLeaderboard(), author_name=author_name)\n",
    "evaluation.evaluate(queries, submit_result)\n"
   ]
  }
 ],
 "metadata": {
  "colab": {
   "collapsed_sections": [
    "y845E0ePZqeH",
    "CwYwHs-MpD1_",
    "xJM9TfbEPCZV"
   ],
   "name": "First term project (Cranfield) example solution.ipynb",
   "provenance": []
  },
  "kernelspec": {
   "display_name": "Python 3 (ipykernel)",
   "language": "python",
   "name": "python3"
  },
  "language_info": {
   "codemirror_mode": {
    "name": "ipython",
    "version": 3
   },
   "file_extension": ".py",
   "mimetype": "text/x-python",
   "name": "python",
   "nbconvert_exporter": "python",
   "pygments_lexer": "ipython3",
   "version": "3.8.13"
  },
  "vscode": {
   "interpreter": {
    "hash": "4525bb9afa5b11e91ff8883ff1427ebcb57df9afe31e89541862e2caa0e84c72"
   }
  }
 },
 "nbformat": 4,
 "nbformat_minor": 4
}
