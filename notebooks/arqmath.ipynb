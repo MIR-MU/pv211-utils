{
  "cells": [
    {
      "attachments": {},
      "cell_type": "markdown",
      "metadata": {
        "id": "cfQo2UKpZ9jT"
      },
      "source": [
        "# Alternative Second Term Project: ARQMath Collection, Answer Retrieval Task\n",
        "\n",
        "“In a recent study, Mansouri et al. found that 20% of mathematical queries in a general-purpose search engine were expressed as well-formed questions, a rate ten times higher than that for all queries submitted. Results such as these and the presence of Community Question Answering sites such as Math Stack Exchange suggest there is interest in finding answers to mathematical questions posed in natural language, using both text and mathematical notation.” [1]\n",
        "\n",
        "“[ARQMath](https://www.cs.rit.edu/~dprl/ARQMath/) is a co-operative evaluation exercise aiming to advance math-aware search and the semantic analysis of mathematical notation and texts.” [2]\n",
        "\n",
        " ![Answer Retrieval Task](https://www.cs.rit.edu/~dprl/ARQMath/assets/images/screen-shot-2019-09-09-at-11.11.57-pm-2656x1229.png)\n",
        "\n",
        "Your tasks, reviewed by your colleagues and the course instructors, are the following:\n",
        "\n",
        "1.   *Implement a supervised ranked retrieval system*, [3, Chapter 15] which will produce a list of documents from the ARQMath collection in a descending order of relevance to a query from the ARQMath collection. You SHOULD use training and validation relevance judgements from the ARQMath collection in your information retrieval system. Test judgements MUST only be used for the evaluation of your information retrieval system.\n",
        "\n",
        "2.   *Document your code* in accordance with [PEP 257](https://www.python.org/dev/peps/pep-0257/), ideally using [the NumPy style guide](https://numpydoc.readthedocs.io/en/latest/format.html#docstring-standard) as seen in the code from exercises.  \n",
        "     *Stick to a consistent coding style* in accordance with [PEP 8](https://www.python.org/dev/peps/pep-0008/).\n",
        "\n",
        "3.   *Reach at least 10% mean average precision at 10* [3, Section 8.4] with your system on the ARQMath collection. You are encouraged to use techniques for tokenization, [3, Section 2.2] document representation [3, Section 6.4], tolerant retrieval [3, Chapter 3], relevance feedback, query expansion, [3, Chapter 9], learning to rank [3, Chapter 15], and others discussed in the course.\n",
        "\n",
        "4.   _[Upload an .ipynb file](https://is.muni.cz/help/komunikace/spravcesouboru#k_ss_1) with this Jupyter notebook to the homework vault in IS MU._ You MAY also include a brief description of your information retrieval system and a link to an external service such as [Google Colaboratory](https://colab.research.google.com/), [DeepNote](https://deepnote.com/), or [JupyterHub](https://iirhub.cloud.e-infra.cz/).\n",
        "\n",
        "The best student systems will enter the ARQMath competition and help develop the new search engine for [the Math StackExchange question answering forum](http://math.stackexchange.com/). This is not only useful, but also a nice reference for your CVs!"
      ]
    },
    {
      "cell_type": "markdown",
      "metadata": {
        "id": "ruSklUM7e5aj"
      },
      "source": [
        "[1] Zanibbi, R. et al. [Overview of ARQMath 2020 (Updated Working Notes Version): CLEF Lab on Answer Retrieval for Questions on Math](http://ceur-ws.org/Vol-2696/paper_271.pdf). In: *Working Notes of CLEF 2020-Conference and Labs of the Evaluation Forum*. 2020.\n",
        "\n",
        "[2] Zanibbi, R. et al. [*ARQMath: Answer Retrieval for Questions on Math (2022)*](https://www.cs.rit.edu/~dprl/ARQMath/index.html). Rochester Institute of Technology. 2022.\n",
        "\n",
        "[3] Manning, Christopher D., Prabhakar Raghavan, and Hinrich Schütze. [*Introduction to information retrieval*](https://nlp.stanford.edu/IR-book/pdf/irbookonlinereading.pdf). Cambridge university press, 2008."
      ]
    },
    {
      "cell_type": "markdown",
      "metadata": {
        "id": "xmpR8qpTZwyP"
      },
      "source": [
        "## Loading the ARQMath collection\n",
        "\n",
        "First, we will install [our library](https://gitlab.fi.muni.cz/xstefan3/pv211-utils) and load the ARQMath collection. If you are interested, you can take a peek at [how we preprocessed the raw ARQMath collection](https://drive.google.com/file/d/1ZFJyBHUuMe4CkwV1HGKYg_F-Fk_PSW9R/view) to the final dataset that we will be using."
      ]
    },
    {
      "cell_type": "code",
      "execution_count": null,
      "metadata": {
        "id": "inUAfc6TQMVJ"
      },
      "outputs": [],
      "source": [
        "%%capture\n",
        "! pip install git+https://github.com/MIR-MU/pv211-utils.git"
      ]
    },
    {
      "cell_type": "markdown",
      "metadata": {
        "id": "NdM90O8nlUn5"
      },
      "source": [
        "The questions and answers from the ARQMath collection, and the queries from the from the answer retrieval task of ARQMath 2020 contain both text and mathematical formulae. We have prepared several encodings of the text and mathematical, which you can choose from:\n",
        "\n",
        "- `text` – Plain text, which contains no mathematical formulae. *Nice and easy*, but you are losing all information about the math:\n",
        "\n",
        "    > Finding value of  such that ...\n",
        "\n",
        "- `text+latex` – Plain text with mathematical formulae in LaTeX surrounded by dollar signs. Still quite nice to work:\n",
        "\n",
        "    > Finding value of \\$c\\$ such that ...\n",
        "\n",
        "- `text+tangentl` – Plain text with mathematical formulae in [the mathtuples format][5] of [the Tangent-L system][6]. Like LaTeX, the mathtuples format encodes how a mathematical formula looks, but is fuzzier in order to improve recall.\n",
        "\n",
        "    > Finding value of #(start)# #(v!c,!0,-)# #(v!c,!0)# #(end)# such that ...\n",
        "\n",
        "- `text+prefix` – Plain text with mathematical formulae in [the prefix format][1]. Unlike LaTeX, which encodes how a mathematical formula looks, the prefix format encodes the semantic content of the formulae using [the Polish notation][2].\n",
        "\n",
        "    > Finding value of V!𝑐 such that ...\n",
        "\n",
        "- `xhtml+latex` – XHTML text with mathematical formulae in LaTeX, surrounded by the `<span class=\"math-container\">` tags:\n",
        "\n",
        "    > ``` html\n",
        "    > <p>Finding value of <span class=\"math-container\">$c$</span> such that ...\n",
        "    > ```\n",
        "\n",
        "- `xhtml+pmml` – XHTML text with mathematical formulae in the [Presentation MathML][4] XML format, which encodes how a mathematical formula looks:\n",
        "\n",
        "    > ``` html\n",
        "    > <p>Finding value of <math><mi>c</mi></math> such that'\n",
        "    > ```\n",
        "\n",
        "- `xhtml+cmml` – XHTML text with mathematical formulae in the [Content MathML][3] XML format, which encodes the semantic content of a formula. This format is *much more difficult to work with*, but it allows you to represent mathematical formulae structurally and use XML Retrieval [3, Chapter 10].\n",
        "\n",
        "    > ``` html\n",
        "    > <p>Finding value of <math><ci>𝑐</ci></math> such that ...\n",
        "    > ```\n",
        "\n",
        " [1]: http://ceur-ws.org/Vol-2696/paper_235.pdf#page=5\n",
        " [2]: https://en.wikipedia.org/wiki/Polish_notation\n",
        " [3]: https://www.w3.org/TR/MathML2/chapter4.html\n",
        " [4]: https://www.w3.org/TR/MathML2/chapter3.html\n",
        " [5]: https://github.com/fwtompa/mathtuples\n",
        " [6]: http://ceur-ws.org/Vol-2936/paper-05.pdf#page=3"
      ]
    },
    {
      "cell_type": "code",
      "execution_count": null,
      "metadata": {
        "id": "azYtWfRRpoxB"
      },
      "outputs": [],
      "source": [
        "text_format = 'text'"
      ]
    },
    {
      "cell_type": "markdown",
      "metadata": {
        "id": "y845E0ePZqeH"
      },
      "source": [
        "### Loading the answers\n",
        "\n",
        "Next, we will define a class named `Answer` that will represent a preprocessed answer from the ARQMath 2020 collection. Tokenization and preprocessing of the `body` attribute of the individual answers as well as the creative use of the `upvotes` and `is_accepted` attributes is left to your imagination and craftsmanship."
      ]
    },
    {
      "cell_type": "code",
      "execution_count": null,
      "metadata": {
        "id": "J5qAXnECFPLB"
      },
      "outputs": [],
      "source": [
        "from pv211_utils.arqmath.entities import ArqmathAnswerBase\n",
        "\n",
        "class Answer(ArqmathAnswerBase):\n",
        "    \"\"\"A preprocessed answer from the ARQMath 2020 collection.\n",
        "\n",
        "    Parameters\n",
        "    ----------\n",
        "    document_id : str\n",
        "        A unique identifier of the answer among all questions and answers.\n",
        "    body : str\n",
        "        The text of the answer, including mathematical formulae.\n",
        "    upvotes : int\n",
        "        The number of upvotes for the answer.\n",
        "    is_accepted : bool\n",
        "        If the answer has been accepted by the poster of the question.\n",
        "\n",
        "    \"\"\"\n",
        "    def __init__(self, document_id: str, body: str, upvotes: int,\n",
        "                 is_accepted: bool):\n",
        "        super().__init__(document_id, body, upvotes, is_accepted)\n",
        "    \n",
        "    def __str__(self) -> str:\n",
        "        return self.body\n",
        "        "
      ]
    },
    {
      "cell_type": "code",
      "execution_count": null,
      "metadata": {
        "id": "HfRrW7O6U5wb"
      },
      "outputs": [],
      "source": [
        "from pv211_utils.datasets import ArqmathDataset\n",
        "\n",
        "data = ArqmathDataset(year=2021, text_format=text_format)\n",
        "answers = data.load_answers(Answer)"
      ]
    },
    {
      "cell_type": "code",
      "execution_count": null,
      "metadata": {
        "id": "DkeKUsWWWnb9"
      },
      "outputs": [],
      "source": [
        "print('\\n'.join(repr(answer) for answer in list(answers.values())[:3]))\n",
        "print('...')\n",
        "print('\\n'.join(repr(answer) for answer in list(answers.values())[-3:]))"
      ]
    },
    {
      "cell_type": "markdown",
      "metadata": {
        "id": "_PxiK4MFqwCM"
      },
      "source": [
        "For a demonstration, we will load [the accepted answer from the image above][1].\n",
        "\n",
        " [1]: https://math.stackexchange.com/a/30741"
      ]
    },
    {
      "cell_type": "code",
      "execution_count": null,
      "metadata": {
        "id": "kvsnuhT3ZZAo"
      },
      "outputs": [],
      "source": [
        "answer = answers['30741']\n",
        "answer"
      ]
    },
    {
      "cell_type": "code",
      "execution_count": null,
      "metadata": {
        "id": "W3z7ed8SZkn6"
      },
      "outputs": [],
      "source": [
        "print(answer.body)"
      ]
    },
    {
      "cell_type": "code",
      "execution_count": null,
      "metadata": {
        "id": "Arv8iIVcqrKa"
      },
      "outputs": [],
      "source": [
        "print(answer.upvotes)"
      ]
    },
    {
      "cell_type": "code",
      "execution_count": null,
      "metadata": {
        "id": "oyH47Fm2q_3J"
      },
      "outputs": [],
      "source": [
        "print(answer.is_accepted)"
      ]
    },
    {
      "cell_type": "markdown",
      "metadata": {
        "id": "gjzTmnjcrJVQ"
      },
      "source": [
        "### Loading the questions\n",
        "\n",
        "Next, we will define a class named `Question` that will represent a preprocessed question from the ARQMath 2020 collection. Tokenization and preprocessing of the `title` and `body` attributes of the individual questions as well as the creative use of the `tags`, `upvotes`, `views`, and `answers` attributes is left to your imagination and craftsmanship.\n",
        "\n",
        "We will not be returning these questions from our search engine, but we could use them for example to look up similar existing questions to a query and then return the answers to these existing questions."
      ]
    },
    {
      "cell_type": "code",
      "execution_count": null,
      "metadata": {
        "id": "bzxEgAlDFPLI"
      },
      "outputs": [],
      "source": [
        "from typing import List\n",
        "\n",
        "from pv211_utils.arqmath.entities import ArqmathQuestionBase\n",
        "\n",
        "class Question(ArqmathQuestionBase):\n",
        "    \"\"\"A preprocessed question from the ARQMath 2020 collection.\n",
        "\n",
        "    Parameters\n",
        "    ----------\n",
        "    document_id : str\n",
        "        A unique identifier of the question among all questions and answers.\n",
        "    title : str\n",
        "        The title of the question, including mathematical formulae.\n",
        "    body : str\n",
        "        The text of the question, including mathematical formulae.\n",
        "    tags : list of str\n",
        "        Tags describing the topics of the question.\n",
        "    upvotes : int\n",
        "        The number of upvotes for the question.\n",
        "    views : int\n",
        "        The number of views for the question.\n",
        "    answers : list of Answer\n",
        "        The answers for the question.\n",
        "\n",
        "    \"\"\"\n",
        "    def __init__(self, document_id: str, title: str, body: str, tags: List[str],\n",
        "                 upvotes: int, views: int, answers: List[Answer]):\n",
        "        super().__init__(document_id, title, body, tags, upvotes, views, answers)\n",
        "\n",
        "    def __str__(self) -> str:\n",
        "        return f\"{self.title} {self.body}\"\n",
        "        "
      ]
    },
    {
      "cell_type": "code",
      "execution_count": null,
      "metadata": {
        "id": "uUgfKxugscxo"
      },
      "outputs": [],
      "source": [
        "questions = data.load_questions(Question)\n",
        "answer_to_question = {\n",
        "    answer: question\n",
        "    for question in questions.values()\n",
        "    for answer in question.answers\n",
        "}"
      ]
    },
    {
      "cell_type": "code",
      "execution_count": null,
      "metadata": {
        "id": "47cK1-i7tWoq"
      },
      "outputs": [],
      "source": [
        "print('\\n'.join(repr(question) for question in list(questions.values())[:3]))\n",
        "print('...')\n",
        "print('\\n'.join(repr(question) for question in list(questions.values())[-3:]))"
      ]
    },
    {
      "cell_type": "markdown",
      "metadata": {
        "id": "xUc27QKesuZT"
      },
      "source": [
        "For a demonstration, we will load [the question from the image above][1].\n",
        "\n",
        " [1]: https://math.stackexchange.com/q/30732"
      ]
    },
    {
      "cell_type": "code",
      "execution_count": null,
      "metadata": {
        "id": "3BGh38LstRJy"
      },
      "outputs": [],
      "source": [
        "question = questions['30732']\n",
        "question"
      ]
    },
    {
      "cell_type": "code",
      "execution_count": null,
      "metadata": {
        "id": "0xPByCB0tdZc"
      },
      "outputs": [],
      "source": [
        "print(question.title)"
      ]
    },
    {
      "cell_type": "code",
      "execution_count": null,
      "metadata": {
        "id": "OqMdpSa4thSG"
      },
      "outputs": [],
      "source": [
        "print(question.body)"
      ]
    },
    {
      "cell_type": "code",
      "execution_count": null,
      "metadata": {
        "id": "T008FvcWtlNQ"
      },
      "outputs": [],
      "source": [
        "print(question.tags)"
      ]
    },
    {
      "cell_type": "code",
      "execution_count": null,
      "metadata": {
        "id": "1iYJlfyEtnHM"
      },
      "outputs": [],
      "source": [
        "print(question.upvotes)"
      ]
    },
    {
      "cell_type": "code",
      "execution_count": null,
      "metadata": {
        "id": "mjC3WLrMtpS8"
      },
      "outputs": [],
      "source": [
        "print(question.views)"
      ]
    },
    {
      "cell_type": "code",
      "execution_count": null,
      "metadata": {
        "id": "Xf3d7pFatrlH"
      },
      "outputs": [],
      "source": [
        "print(question.answers)"
      ]
    },
    {
      "cell_type": "code",
      "execution_count": null,
      "metadata": {
        "id": "YLVh6NumtyRb"
      },
      "outputs": [],
      "source": [
        "print([answer for answer in question.answers if answer.is_accepted])"
      ]
    },
    {
      "cell_type": "markdown",
      "metadata": {
        "id": "CwYwHs-MpD1_"
      },
      "source": [
        "### Loading the queries\n",
        "Next, we will define a class named `Query` that will represent a preprocessed query from the answer retrieval task of ARQMath 2020. Tokenization and preprocessing of the `title` and `body` attributes of the individual questions as well as the creative use of the `tags` attribute is left to your imagination and craftsmanship."
      ]
    },
    {
      "cell_type": "markdown",
      "metadata": {
        "id": "a-aAREbRMXeJ"
      },
      "source": [
        "We will load queries into the `train_queries` and `validation_queries` [ordered dictionaries](https://docs.python.org/3.8/library/collections.html#collections.OrderedDict). Each query is an instance of the `Query` class that we have just defined. You should use `train_queries`, `validation_queries`, and *relevance judgements* (see the next section) for training your supervised information retrieval system."
      ]
    },
    {
      "cell_type": "markdown",
      "metadata": {
        "id": "ciMVC1ufImzf"
      },
      "source": [
        "If you are training just a single machine learning model without any early stopping or hyperparameter optimization, you can use `bigger_train_queries` as the input.\n",
        "\n",
        "If you are training a single machine learning model with early stopping or hyperparameter optimization, you can use `train_queries` for training your model and `validation_queries` to stop early or to select the optimal hyperparameters for your model. You can then use `bigger_train_queries` to train the model with the best number of epochs or the best hyperparameters."
      ]
    },
    {
      "cell_type": "code",
      "execution_count": null,
      "metadata": {
        "id": "ss39Vn70FPLP"
      },
      "outputs": [],
      "source": [
        "from pv211_utils.arqmath.entities import ArqmathQueryBase\n",
        "\n",
        "class Query(ArqmathQueryBase):\n",
        "    \"\"\"A preprocessed query from the answer retrieval task of ARQMath 2020.\n",
        "\n",
        "    Parameters\n",
        "    ----------\n",
        "    query_id : int\n",
        "        A unique identifier of the query.\n",
        "    title : str\n",
        "        The title of the query, including mathematical formulae.\n",
        "    body : str\n",
        "        The text of the query, including mathematical formulae.\n",
        "    tags : list of str\n",
        "        Tags describing the topics of the query.\n",
        "\n",
        "    \"\"\"\n",
        "    def __init__(self, query_id: int, title: str, body: str, tags: List[str]):\n",
        "        super().__init__(query_id, title, body, tags)\n",
        "\n",
        "    def __str__(self) -> str:\n",
        "        return f\"{self.title} {self.body}\""
      ]
    },
    {
      "cell_type": "code",
      "execution_count": null,
      "metadata": {
        "id": "8qcyQUNRqRTr"
      },
      "outputs": [],
      "source": [
        "from collections import OrderedDict\n",
        "from itertools import chain\n",
        "\n",
        "train_queries = data.load_train_queries(Query)\n",
        "validation_queries = data.load_validation_queries(Query)\n",
        "\n",
        "bigger_train_queries = OrderedDict(chain(train_queries.items(), validation_queries.items()))"
      ]
    },
    {
      "cell_type": "code",
      "execution_count": null,
      "metadata": {
        "id": "IW-N6g3LqwPZ"
      },
      "outputs": [],
      "source": [
        "print('\\n'.join(repr(query) for query in list(train_queries.values())[:3]))\n",
        "print('...')\n",
        "print('\\n'.join(repr(query) for query in list(train_queries.values())[-3:]))"
      ]
    },
    {
      "cell_type": "markdown",
      "metadata": {
        "id": "SA-0vN4swjwD"
      },
      "source": [
        "For a demonstration, we will look at query number 5. This is a query that is relatively easy to answer using just the text of the query, not the mathematical formulae. The user is asking for a computational solution to an interesting puzzle."
      ]
    },
    {
      "cell_type": "code",
      "execution_count": null,
      "metadata": {
        "id": "VgdHjSYIq5HV"
      },
      "outputs": [],
      "source": [
        "query = validation_queries[5]\n",
        "query"
      ]
    },
    {
      "cell_type": "code",
      "execution_count": null,
      "metadata": {
        "id": "w4NGZOdOq8NF"
      },
      "outputs": [],
      "source": [
        "print(query.title)"
      ]
    },
    {
      "cell_type": "code",
      "execution_count": null,
      "metadata": {
        "id": "m6u1D5sgHFdy"
      },
      "outputs": [],
      "source": [
        "print(query.body)"
      ]
    },
    {
      "cell_type": "code",
      "execution_count": null,
      "metadata": {
        "id": "QKiDvbPZHG0n"
      },
      "outputs": [],
      "source": [
        "print(query.tags)"
      ]
    },
    {
      "cell_type": "markdown",
      "metadata": {
        "id": "8psrfOlGH-hM"
      },
      "source": [
        "### Loading the relevance judgements\n",
        "Next, we will load train and validation relevance judgements into the `train_judgements` and `validation_judgement` sets. Relevance judgements specify, which answers are relevant to which queries. You should use relevance judgements for training your supervised information retrieval system."
      ]
    },
    {
      "cell_type": "markdown",
      "metadata": {
        "id": "-zzV99yDIrJf"
      },
      "source": [
        "\n",
        "If you are training just a single machine learning model without any early stopping or hyperparameter optimization, you can use `bigger_train_judgements` as the input.\n",
        "\n",
        "If you are training a single machine learning model with early stopping or hyperparameter optimization, you can use `train_judgements` for training your model and `validation_judgements` to stop early or to select the optimal hyperparameters for your model. You can then use `bigger_train_judgements` to train the model with the best number of epochs or the best hyperparameters."
      ]
    },
    {
      "cell_type": "code",
      "execution_count": null,
      "metadata": {
        "id": "MbEYf0zwKz44"
      },
      "outputs": [],
      "source": [
        "from pv211_utils.arqmath.loader import load_judgements\n",
        "\n",
        "train_judgements = data.load_train_judgements()\n",
        "validation_judgements = data.load_validation_judgements()\n",
        "\n",
        "bigger_train_judgements = train_judgements | validation_judgements"
      ]
    },
    {
      "cell_type": "code",
      "execution_count": null,
      "metadata": {
        "id": "vu2ynv-BcK3O"
      },
      "outputs": [],
      "source": [
        "len(bigger_train_judgements)"
      ]
    },
    {
      "cell_type": "markdown",
      "metadata": {
        "id": "i3I5Wv_9ynfI"
      },
      "source": [
        "For a demonstration, we will look at query number 5 and show a relevant answer to the query and a non-relevant answer to the query."
      ]
    },
    {
      "cell_type": "code",
      "execution_count": null,
      "metadata": {
        "id": "MbRB48vRLF4k"
      },
      "outputs": [],
      "source": [
        "query = validation_queries[5]\n",
        "relevant_answer = answers['1037824']\n",
        "irrelevant_answer = answers['432200']"
      ]
    },
    {
      "cell_type": "code",
      "execution_count": null,
      "metadata": {
        "id": "C7oapMQvLqZ6"
      },
      "outputs": [],
      "source": [
        "query"
      ]
    },
    {
      "cell_type": "code",
      "execution_count": null,
      "metadata": {
        "id": "iCsjADYbLsR2"
      },
      "outputs": [],
      "source": [
        "relevant_answer"
      ]
    },
    {
      "cell_type": "code",
      "execution_count": null,
      "metadata": {
        "id": "r2BRSpkELsTv"
      },
      "outputs": [],
      "source": [
        "irrelevant_answer"
      ]
    },
    {
      "cell_type": "code",
      "execution_count": null,
      "metadata": {
        "id": "2-AizE1_Lnto"
      },
      "outputs": [],
      "source": [
        "(query, relevant_answer) in train_judgements"
      ]
    },
    {
      "cell_type": "code",
      "execution_count": null,
      "metadata": {
        "id": "fZe8KKNcLx3X"
      },
      "outputs": [],
      "source": [
        "(query, irrelevant_answer) in train_judgements"
      ]
    },
    {
      "cell_type": "markdown",
      "metadata": {
        "id": "JnrzyrL2Fam3"
      },
      "source": [
        "## Implementation of your information retrieval system\n",
        "\n",
        "You can try the [preprocessing][1] and [systems][2] that are [available in our library][1], but feel free to implement your own.\n",
        "\n",
        " [1]: https://github.com/MIR-MU/pv211-utils/tree/main/pv211_utils/preprocessing\n",
        " [2]: https://github.com/MIR-MU/pv211-utils/tree/main/pv211_utils/systems"
      ]
    },
    {
      "cell_type": "code",
      "execution_count": null,
      "metadata": {
        "id": "4lfLI6pKFdL9"
      },
      "outputs": [],
      "source": [
        "from pv211_utils.preprocessing import preprocessing\n",
        "from pv211_utils.systems import BM25PlusSystem\n",
        "\n",
        "preprocessing = preprocessing.SimpleDocPreprocessing()\n",
        "system = BM25PlusSystem(answers, preprocessing)"
      ]
    },
    {
      "cell_type": "markdown",
      "metadata": {
        "id": "TwrCzoaZhWi4"
      },
      "source": [
        "## Evaluation\n",
        "Finally, we will evaluate your information retrieval system using [the Mean Average Precision](https://en.wikipedia.org/wiki/Evaluation_measures_(information_retrieval)#Mean_average_precision) (MAP) evaluation measure."
      ]
    },
    {
      "cell_type": "code",
      "execution_count": null,
      "metadata": {
        "id": "ssX-nvxGu3JK",
        "tags": []
      },
      "outputs": [],
      "source": [
        "from pv211_utils.arqmath.leaderboard import ArqmathLeaderboard\n",
        "from pv211_utils.arqmath.eval import ArqmathEvaluation\n",
        "\n",
        "submit_result = False\n",
        "author_name = 'Surname, Name'\n",
        "\n",
        "test_queries = data.load_test_queries(Query)\n",
        "test_judgements = data.load_test_judgements()\n",
        "evaluation = ArqmathEvaluation(system, test_judgements, 10, ArqmathLeaderboard(), author_name, num_workers=4)\n",
        "evaluation.evaluate(test_queries, submit_result)"
      ]
    }
  ],
  "metadata": {
    "colab": {
      "collapsed_sections": [
        "xmpR8qpTZwyP",
        "y845E0ePZqeH",
        "gjzTmnjcrJVQ",
        "CwYwHs-MpD1_",
        "8psrfOlGH-hM",
        "xJM9TfbEPCZV"
      ],
      "name": "Alternative second term project (ARQMath) example solution.ipynb",
      "provenance": []
    },
    "kernelspec": {
      "display_name": "Python 3 (ipykernel)",
      "language": "python",
      "name": "python3"
    },
    "language_info": {
      "codemirror_mode": {
        "name": "ipython",
        "version": 3
      },
      "file_extension": ".py",
      "mimetype": "text/x-python",
      "name": "python",
      "nbconvert_exporter": "python",
      "pygments_lexer": "ipython3",
      "version": "3.9.14"
    },
    "vscode": {
      "interpreter": {
        "hash": "97b31d6e62de2216a05dd9342162045e53cee058ed98d00a361b193ba69cab9f"
      }
    }
  },
  "nbformat": 4,
  "nbformat_minor": 0
}
