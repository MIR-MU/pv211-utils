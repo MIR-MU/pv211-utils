{
 "cells": [
  {
   "cell_type": "markdown",
   "source": [
    "# CQADupStack Collection\n",
    "\n",
    "The [*CQADupStack*](https://github.com/D1Doris/CQADupStack) is \"[a] Benchmark Data Set for Community Question-Answering Research\" [1] that is a part of the [*Benchmarking Information Retrieval (BEIR)*](https://github.com/beir-cellar/beir) collection.\n",
    "\n",
    "CQADupStack contains data from 12 different [*Stackexchange*](https://stackexchange.com/) subforums based on the data dump released on September 26, 2014.\n",
    "\n",
    "Your tasks, reviewed by your colleagues and the course instructors, are the following:\n",
    "\n",
    "TODO\n",
    "\n",
    "\n",
    "1. *Implement a ranked retrieval system*, [1, Chapter 6] which will produce a list of documents from the CQADupStack collection in a descending order of relevance to a query from the CQADupStack collection.\n",
    "2. *Document your code* in accordance with [PEP 257](https://www.python.org/dev/peps/pep-0257/), ideally using [the NumPy style guide](https://numpydoc.readthedocs.io/en/latest/format.html#docstring-standard) as seen in the code from exercises.\n",
    "   *Stick to a consistent coding style* in accordance with [PEP 8](https://www.python.org/dev/peps/pep-0008/).\n",
    "3. *Reach at least XX% mean average precision* [1, Section 8.4] with your system on the CQADupStack collection.\n",
    "4.   _[Upload an .ipynb file](https://is.muni.cz/help/komunikace/spravcesouboru#k_ss_1) with this Jupyter notebook to the homework vault in IS MU._ You MAY also include a brief description of your information retrieval system and a link to an external service such as [Google Colaboratory](https://colab.research.google.com/), [DeepNote](https://deepnote.com/), or [JupyterHub](https://iirhub.cloud.e-infra.cz/).\n",
    "\n",
    "\n",
    "\n",
    "\n",
    "\n",
    "\n",
    "\n",
    "[1] Hoogeveen, Doris and Verspoor, Karin M. and Baldwin, Timothy. [*CQADupStack: A Benchmark Data Set for Community Question-Answering Research*](https://dl.acm.org/doi/10.1145/2838931.2838934). ACM, 2015."
   ],
   "metadata": {
    "id": "YaPbEXlHvd_C",
    "pycharm": {
     "name": "#%% md\n"
    }
   },
   "id": "YaPbEXlHvd_C"
  },
  {
   "cell_type": "markdown",
   "source": [
    "### Import the utility tools from the git repository.\n",
    "\n",
    "First, we will install [our library](https://github.com/MIR-MU/pv211-utils).\n",
    "\n",
    "It may be necessary to restart the runtime to get the installed packages to work."
   ],
   "metadata": {
    "id": "u6zDHKMAvvTt",
    "pycharm": {
     "name": "#%% md\n"
    }
   },
   "id": "u6zDHKMAvvTt"
  },
  {
   "cell_type": "code",
   "execution_count": 1,
   "id": "3db5c20f-031f-4d05-abea-4570e80fca34",
   "metadata": {
    "id": "3db5c20f-031f-4d05-abea-4570e80fca34",
    "colab": {
     "base_uri": "https://localhost:8080/"
    },
    "outputId": "b559eea8-922c-4a20-ca14-cc2126e50028",
    "pycharm": {
     "name": "#%%\n"
    }
   },
   "outputs": [
    {
     "output_type": "stream",
     "name": "stdout",
     "text": [
      "Looking in indexes: https://pypi.org/simple, https://us-python.pkg.dev/colab-wheels/public/simple/\n",
      "Collecting git+https://gitlab.fi.muni.cz/xstefan3/pv211-utils.git@dataset_and_irsystem_evaluator\n",
      "  Cloning https://gitlab.fi.muni.cz/xstefan3/pv211-utils.git (to revision dataset_and_irsystem_evaluator) to /tmp/pip-req-build-mwh950k4\n",
      "  Running command git clone -q https://gitlab.fi.muni.cz/xstefan3/pv211-utils.git /tmp/pip-req-build-mwh950k4\n",
      "  Running command git checkout -b dataset_and_irsystem_evaluator --track origin/dataset_and_irsystem_evaluator\n",
      "  Switched to a new branch 'dataset_and_irsystem_evaluator'\n",
      "  Branch 'dataset_and_irsystem_evaluator' set up to track remote branch 'dataset_and_irsystem_evaluator' from 'origin'.\n",
      "Requirement already satisfied: beir in /usr/local/lib/python3.7/dist-packages (from pv211-utils==1.1.20) (1.0.0)\n",
      "Requirement already satisfied: gspread in /usr/local/lib/python3.7/dist-packages (from pv211-utils==1.1.20) (3.4.2)\n",
      "Requirement already satisfied: gdown in /usr/local/lib/python3.7/dist-packages (from pv211-utils==1.1.20) (4.4.0)\n",
      "Requirement already satisfied: oauth2client in /usr/local/lib/python3.7/dist-packages (from pv211-utils==1.1.20) (4.1.3)\n",
      "Requirement already satisfied: google in /usr/local/lib/python3.7/dist-packages (from pv211-utils==1.1.20) (2.0.3)\n",
      "Requirement already satisfied: tqdm in /usr/local/lib/python3.7/dist-packages (from pv211-utils==1.1.20) (4.64.0)\n",
      "Requirement already satisfied: ijson in /usr/local/lib/python3.7/dist-packages (from pv211-utils==1.1.20) (3.1.4)\n",
      "Requirement already satisfied: ipython in /usr/local/lib/python3.7/dist-packages (from pv211-utils==1.1.20) (5.5.0)\n",
      "Requirement already satisfied: ipywidgets in /usr/local/lib/python3.7/dist-packages (from pv211-utils==1.1.20) (7.7.0)\n",
      "Requirement already satisfied: gensim==3.8.3 in /usr/local/lib/python3.7/dist-packages (from pv211-utils==1.1.20) (3.8.3)\n",
      "Requirement already satisfied: six>=1.5.0 in /usr/local/lib/python3.7/dist-packages (from gensim==3.8.3->pv211-utils==1.1.20) (1.15.0)\n",
      "Requirement already satisfied: numpy>=1.11.3 in /usr/local/lib/python3.7/dist-packages (from gensim==3.8.3->pv211-utils==1.1.20) (1.21.6)\n",
      "Requirement already satisfied: scipy>=0.18.1 in /usr/local/lib/python3.7/dist-packages (from gensim==3.8.3->pv211-utils==1.1.20) (1.4.1)\n",
      "Requirement already satisfied: smart-open>=1.8.1 in /usr/local/lib/python3.7/dist-packages (from gensim==3.8.3->pv211-utils==1.1.20) (5.2.1)\n",
      "Requirement already satisfied: pytrec-eval in /usr/local/lib/python3.7/dist-packages (from beir->pv211-utils==1.1.20) (0.5)\n",
      "Requirement already satisfied: elasticsearch==7.9.1 in /usr/local/lib/python3.7/dist-packages (from beir->pv211-utils==1.1.20) (7.9.1)\n",
      "Requirement already satisfied: faiss-cpu in /usr/local/lib/python3.7/dist-packages (from beir->pv211-utils==1.1.20) (1.7.2)\n",
      "Requirement already satisfied: sentence-transformers in /usr/local/lib/python3.7/dist-packages (from beir->pv211-utils==1.1.20) (2.2.1)\n",
      "Requirement already satisfied: urllib3>=1.21.1 in /usr/local/lib/python3.7/dist-packages (from elasticsearch==7.9.1->beir->pv211-utils==1.1.20) (1.24.3)\n",
      "Requirement already satisfied: certifi in /usr/local/lib/python3.7/dist-packages (from elasticsearch==7.9.1->beir->pv211-utils==1.1.20) (2022.6.15)\n",
      "Requirement already satisfied: filelock in /usr/local/lib/python3.7/dist-packages (from gdown->pv211-utils==1.1.20) (3.7.1)\n",
      "Requirement already satisfied: beautifulsoup4 in /usr/local/lib/python3.7/dist-packages (from gdown->pv211-utils==1.1.20) (4.6.3)\n",
      "Requirement already satisfied: requests[socks] in /usr/local/lib/python3.7/dist-packages (from gdown->pv211-utils==1.1.20) (2.23.0)\n",
      "Requirement already satisfied: google-auth in /usr/local/lib/python3.7/dist-packages (from gspread->pv211-utils==1.1.20) (1.35.0)\n",
      "Requirement already satisfied: chardet<4,>=3.0.2 in /usr/local/lib/python3.7/dist-packages (from requests[socks]->gdown->pv211-utils==1.1.20) (3.0.4)\n",
      "Requirement already satisfied: idna<3,>=2.5 in /usr/local/lib/python3.7/dist-packages (from requests[socks]->gdown->pv211-utils==1.1.20) (2.10)\n",
      "Requirement already satisfied: rsa<5,>=3.1.4 in /usr/local/lib/python3.7/dist-packages (from google-auth->gspread->pv211-utils==1.1.20) (4.8)\n",
      "Requirement already satisfied: cachetools<5.0,>=2.0.0 in /usr/local/lib/python3.7/dist-packages (from google-auth->gspread->pv211-utils==1.1.20) (4.2.4)\n",
      "Requirement already satisfied: pyasn1-modules>=0.2.1 in /usr/local/lib/python3.7/dist-packages (from google-auth->gspread->pv211-utils==1.1.20) (0.2.8)\n",
      "Requirement already satisfied: setuptools>=40.3.0 in /usr/local/lib/python3.7/dist-packages (from google-auth->gspread->pv211-utils==1.1.20) (57.4.0)\n",
      "Requirement already satisfied: pyasn1<0.5.0,>=0.4.6 in /usr/local/lib/python3.7/dist-packages (from pyasn1-modules>=0.2.1->google-auth->gspread->pv211-utils==1.1.20) (0.4.8)\n",
      "Requirement already satisfied: prompt-toolkit<2.0.0,>=1.0.4 in /usr/local/lib/python3.7/dist-packages (from ipython->pv211-utils==1.1.20) (1.0.18)\n",
      "Requirement already satisfied: traitlets>=4.2 in /usr/local/lib/python3.7/dist-packages (from ipython->pv211-utils==1.1.20) (5.1.1)\n",
      "Requirement already satisfied: simplegeneric>0.8 in /usr/local/lib/python3.7/dist-packages (from ipython->pv211-utils==1.1.20) (0.8.1)\n",
      "Requirement already satisfied: pickleshare in /usr/local/lib/python3.7/dist-packages (from ipython->pv211-utils==1.1.20) (0.7.5)\n",
      "Requirement already satisfied: decorator in /usr/local/lib/python3.7/dist-packages (from ipython->pv211-utils==1.1.20) (4.4.2)\n",
      "Requirement already satisfied: pexpect in /usr/local/lib/python3.7/dist-packages (from ipython->pv211-utils==1.1.20) (4.8.0)\n",
      "Requirement already satisfied: pygments in /usr/local/lib/python3.7/dist-packages (from ipython->pv211-utils==1.1.20) (2.6.1)\n",
      "Requirement already satisfied: wcwidth in /usr/local/lib/python3.7/dist-packages (from prompt-toolkit<2.0.0,>=1.0.4->ipython->pv211-utils==1.1.20) (0.2.5)\n",
      "Requirement already satisfied: widgetsnbextension~=3.6.0 in /usr/local/lib/python3.7/dist-packages (from ipywidgets->pv211-utils==1.1.20) (3.6.0)\n",
      "Requirement already satisfied: nbformat>=4.2.0 in /usr/local/lib/python3.7/dist-packages (from ipywidgets->pv211-utils==1.1.20) (5.4.0)\n",
      "Requirement already satisfied: jupyterlab-widgets>=1.0.0 in /usr/local/lib/python3.7/dist-packages (from ipywidgets->pv211-utils==1.1.20) (1.1.0)\n",
      "Requirement already satisfied: ipython-genutils~=0.2.0 in /usr/local/lib/python3.7/dist-packages (from ipywidgets->pv211-utils==1.1.20) (0.2.0)\n",
      "Requirement already satisfied: ipykernel>=4.5.1 in /usr/local/lib/python3.7/dist-packages (from ipywidgets->pv211-utils==1.1.20) (4.10.1)\n",
      "Requirement already satisfied: jupyter-client in /usr/local/lib/python3.7/dist-packages (from ipykernel>=4.5.1->ipywidgets->pv211-utils==1.1.20) (5.3.5)\n",
      "Requirement already satisfied: tornado>=4.0 in /usr/local/lib/python3.7/dist-packages (from ipykernel>=4.5.1->ipywidgets->pv211-utils==1.1.20) (5.1.1)\n",
      "Requirement already satisfied: fastjsonschema in /usr/local/lib/python3.7/dist-packages (from nbformat>=4.2.0->ipywidgets->pv211-utils==1.1.20) (2.15.3)\n",
      "Requirement already satisfied: jupyter-core in /usr/local/lib/python3.7/dist-packages (from nbformat>=4.2.0->ipywidgets->pv211-utils==1.1.20) (4.10.0)\n",
      "Requirement already satisfied: jsonschema>=2.6 in /usr/local/lib/python3.7/dist-packages (from nbformat>=4.2.0->ipywidgets->pv211-utils==1.1.20) (4.3.3)\n",
      "Requirement already satisfied: typing-extensions in /usr/local/lib/python3.7/dist-packages (from jsonschema>=2.6->nbformat>=4.2.0->ipywidgets->pv211-utils==1.1.20) (4.1.1)\n",
      "Requirement already satisfied: importlib-resources>=1.4.0 in /usr/local/lib/python3.7/dist-packages (from jsonschema>=2.6->nbformat>=4.2.0->ipywidgets->pv211-utils==1.1.20) (5.7.1)\n",
      "Requirement already satisfied: attrs>=17.4.0 in /usr/local/lib/python3.7/dist-packages (from jsonschema>=2.6->nbformat>=4.2.0->ipywidgets->pv211-utils==1.1.20) (21.4.0)\n",
      "Requirement already satisfied: importlib-metadata in /usr/local/lib/python3.7/dist-packages (from jsonschema>=2.6->nbformat>=4.2.0->ipywidgets->pv211-utils==1.1.20) (4.11.4)\n",
      "Requirement already satisfied: pyrsistent!=0.17.0,!=0.17.1,!=0.17.2,>=0.14.0 in /usr/local/lib/python3.7/dist-packages (from jsonschema>=2.6->nbformat>=4.2.0->ipywidgets->pv211-utils==1.1.20) (0.18.1)\n",
      "Requirement already satisfied: zipp>=3.1.0 in /usr/local/lib/python3.7/dist-packages (from importlib-resources>=1.4.0->jsonschema>=2.6->nbformat>=4.2.0->ipywidgets->pv211-utils==1.1.20) (3.8.0)\n",
      "Requirement already satisfied: notebook>=4.4.1 in /usr/local/lib/python3.7/dist-packages (from widgetsnbextension~=3.6.0->ipywidgets->pv211-utils==1.1.20) (5.3.1)\n",
      "Requirement already satisfied: nbconvert in /usr/local/lib/python3.7/dist-packages (from notebook>=4.4.1->widgetsnbextension~=3.6.0->ipywidgets->pv211-utils==1.1.20) (5.6.1)\n",
      "Requirement already satisfied: Send2Trash in /usr/local/lib/python3.7/dist-packages (from notebook>=4.4.1->widgetsnbextension~=3.6.0->ipywidgets->pv211-utils==1.1.20) (1.8.0)\n",
      "Requirement already satisfied: terminado>=0.8.1 in /usr/local/lib/python3.7/dist-packages (from notebook>=4.4.1->widgetsnbextension~=3.6.0->ipywidgets->pv211-utils==1.1.20) (0.13.3)\n",
      "Requirement already satisfied: jinja2 in /usr/local/lib/python3.7/dist-packages (from notebook>=4.4.1->widgetsnbextension~=3.6.0->ipywidgets->pv211-utils==1.1.20) (2.11.3)\n",
      "Requirement already satisfied: python-dateutil>=2.1 in /usr/local/lib/python3.7/dist-packages (from jupyter-client->ipykernel>=4.5.1->ipywidgets->pv211-utils==1.1.20) (2.8.2)\n",
      "Requirement already satisfied: pyzmq>=13 in /usr/local/lib/python3.7/dist-packages (from jupyter-client->ipykernel>=4.5.1->ipywidgets->pv211-utils==1.1.20) (23.1.0)\n",
      "Requirement already satisfied: ptyprocess in /usr/local/lib/python3.7/dist-packages (from terminado>=0.8.1->notebook>=4.4.1->widgetsnbextension~=3.6.0->ipywidgets->pv211-utils==1.1.20) (0.7.0)\n",
      "Requirement already satisfied: MarkupSafe>=0.23 in /usr/local/lib/python3.7/dist-packages (from jinja2->notebook>=4.4.1->widgetsnbextension~=3.6.0->ipywidgets->pv211-utils==1.1.20) (2.0.1)\n",
      "Requirement already satisfied: testpath in /usr/local/lib/python3.7/dist-packages (from nbconvert->notebook>=4.4.1->widgetsnbextension~=3.6.0->ipywidgets->pv211-utils==1.1.20) (0.6.0)\n",
      "Requirement already satisfied: pandocfilters>=1.4.1 in /usr/local/lib/python3.7/dist-packages (from nbconvert->notebook>=4.4.1->widgetsnbextension~=3.6.0->ipywidgets->pv211-utils==1.1.20) (1.5.0)\n",
      "Requirement already satisfied: mistune<2,>=0.8.1 in /usr/local/lib/python3.7/dist-packages (from nbconvert->notebook>=4.4.1->widgetsnbextension~=3.6.0->ipywidgets->pv211-utils==1.1.20) (0.8.4)\n",
      "Requirement already satisfied: bleach in /usr/local/lib/python3.7/dist-packages (from nbconvert->notebook>=4.4.1->widgetsnbextension~=3.6.0->ipywidgets->pv211-utils==1.1.20) (5.0.0)\n",
      "Requirement already satisfied: defusedxml in /usr/local/lib/python3.7/dist-packages (from nbconvert->notebook>=4.4.1->widgetsnbextension~=3.6.0->ipywidgets->pv211-utils==1.1.20) (0.7.1)\n",
      "Requirement already satisfied: entrypoints>=0.2.2 in /usr/local/lib/python3.7/dist-packages (from nbconvert->notebook>=4.4.1->widgetsnbextension~=3.6.0->ipywidgets->pv211-utils==1.1.20) (0.4)\n",
      "Requirement already satisfied: webencodings in /usr/local/lib/python3.7/dist-packages (from bleach->nbconvert->notebook>=4.4.1->widgetsnbextension~=3.6.0->ipywidgets->pv211-utils==1.1.20) (0.5.1)\n",
      "Requirement already satisfied: httplib2>=0.9.1 in /usr/local/lib/python3.7/dist-packages (from oauth2client->pv211-utils==1.1.20) (0.17.4)\n",
      "Requirement already satisfied: PySocks!=1.5.7,>=1.5.6 in /usr/local/lib/python3.7/dist-packages (from requests[socks]->gdown->pv211-utils==1.1.20) (1.7.1)\n",
      "Requirement already satisfied: transformers<5.0.0,>=4.6.0 in /usr/local/lib/python3.7/dist-packages (from sentence-transformers->beir->pv211-utils==1.1.20) (4.20.1)\n",
      "Requirement already satisfied: scikit-learn in /usr/local/lib/python3.7/dist-packages (from sentence-transformers->beir->pv211-utils==1.1.20) (1.0.2)\n",
      "Requirement already satisfied: nltk in /usr/local/lib/python3.7/dist-packages (from sentence-transformers->beir->pv211-utils==1.1.20) (3.7)\n",
      "Requirement already satisfied: sentencepiece in /usr/local/lib/python3.7/dist-packages (from sentence-transformers->beir->pv211-utils==1.1.20) (0.1.96)\n",
      "Requirement already satisfied: huggingface-hub>=0.8.1 in /usr/local/lib/python3.7/dist-packages (from sentence-transformers->beir->pv211-utils==1.1.20) (0.8.1)\n",
      "Requirement already satisfied: torchvision in /usr/local/lib/python3.7/dist-packages (from sentence-transformers->beir->pv211-utils==1.1.20) (0.12.0+cu113)\n",
      "Requirement already satisfied: torch>=1.6.0 in /usr/local/lib/python3.7/dist-packages (from sentence-transformers->beir->pv211-utils==1.1.20) (1.11.0+cu113)\n",
      "Requirement already satisfied: packaging>=20.9 in /usr/local/lib/python3.7/dist-packages (from huggingface-hub>=0.8.1->sentence-transformers->beir->pv211-utils==1.1.20) (21.3)\n",
      "Requirement already satisfied: pyyaml>=5.1 in /usr/local/lib/python3.7/dist-packages (from huggingface-hub>=0.8.1->sentence-transformers->beir->pv211-utils==1.1.20) (6.0)\n",
      "Requirement already satisfied: pyparsing!=3.0.5,>=2.0.2 in /usr/local/lib/python3.7/dist-packages (from packaging>=20.9->huggingface-hub>=0.8.1->sentence-transformers->beir->pv211-utils==1.1.20) (3.0.9)\n",
      "Requirement already satisfied: regex!=2019.12.17 in /usr/local/lib/python3.7/dist-packages (from transformers<5.0.0,>=4.6.0->sentence-transformers->beir->pv211-utils==1.1.20) (2022.6.2)\n",
      "Requirement already satisfied: tokenizers!=0.11.3,<0.13,>=0.11.1 in /usr/local/lib/python3.7/dist-packages (from transformers<5.0.0,>=4.6.0->sentence-transformers->beir->pv211-utils==1.1.20) (0.12.1)\n",
      "Requirement already satisfied: joblib in /usr/local/lib/python3.7/dist-packages (from nltk->sentence-transformers->beir->pv211-utils==1.1.20) (1.1.0)\n",
      "Requirement already satisfied: click in /usr/local/lib/python3.7/dist-packages (from nltk->sentence-transformers->beir->pv211-utils==1.1.20) (7.1.2)\n",
      "Requirement already satisfied: threadpoolctl>=2.0.0 in /usr/local/lib/python3.7/dist-packages (from scikit-learn->sentence-transformers->beir->pv211-utils==1.1.20) (3.1.0)\n",
      "Requirement already satisfied: pillow!=8.3.*,>=5.3.0 in /usr/local/lib/python3.7/dist-packages (from torchvision->sentence-transformers->beir->pv211-utils==1.1.20) (7.1.2)\n"
     ]
    }
   ],
   "source": [
    "! pip install git+https://github.com/MIR-MU/pv211-utils.git@add-beir-datasets"
   ]
  },
  {
   "cell_type": "markdown",
   "source": [
    "### Define the necessary classes\n",
    "\n",
    "These will eventually represent the Queries, Documents and Relevance Judgements from the CQADupStack collection.\n",
    "\n",
    "Query and Document consist only of their IDs and bodies.\n",
    "Judgements are also just a Set of Tuples that represent pairs of relevant Document-Query combinations."
   ],
   "metadata": {
    "id": "I0_jZfSIwfcv",
    "pycharm": {
     "name": "#%% md\n"
    }
   },
   "id": "I0_jZfSIwfcv"
  },
  {
   "cell_type": "code",
   "execution_count": 2,
   "id": "d3f3f1a8-2a5b-4d3f-9e68-175909efe906",
   "metadata": {
    "id": "d3f3f1a8-2a5b-4d3f-9e68-175909efe906",
    "pycharm": {
     "name": "#%%\n"
    }
   },
   "outputs": [],
   "source": [
    "from pv211_utils.beir.entities import BeirDocumentBase, BeirQueryBase, BeirJudgementBase\n",
    "from typing import Set\n",
    "\n",
    "class Query(BeirQueryBase):\n",
    "    \"\"\"\n",
    "    A processed query form the Beir collection.\n",
    "\n",
    "    Parameters\n",
    "    ----------\n",
    "    query_id : int\n",
    "        The number\n",
    "    body : str\n",
    "        Text of a query\n",
    "\n",
    "    \"\"\"\n",
    "    def __init__(self, query_id: int, body: str):\n",
    "        super().__init__(query_id, body)\n",
    "\n",
    "class Document(BeirDocumentBase):\n",
    "    \"\"\"\n",
    "    A processed document form the Beir collection.\n",
    "\n",
    "    Parameters\n",
    "    ----------\n",
    "    document_id : str\n",
    "        A unique identifier of the document.\n",
    "    body : str\n",
    "        The text of the document.\n",
    "\n",
    "    \"\"\"\n",
    "    def __init__(self, document_id: str, body: str):\n",
    "        super().__init__(document_id, body)\n",
    "        \n",
    "BeirJudgements = Set[BeirJudgementBase]\n"
   ]
  },
  {
   "cell_type": "markdown",
   "source": [
    "### Define the datasets that are to be used.\n",
    "\n",
    "\n",
    "TODO - Either this or the one bellow\n",
    "\n",
    "RawBeirDataset stores the basic setup \n",
    "- Name of the dataset\n",
    "- Subset(s) to use\n",
    "- Alternative(s) to the subset(s) if they are not available\n",
    "\n",
    "\n",
    "RawBeirDatasets then stores \n",
    "- Common download location\n",
    "- List of RawBeirDataset instances\n",
    "\n",
    "If more than one datasets are used, they will be merged and used as one. This functionality is primarly aimed at the CQADupstack datasets, but shuld work with any other combination as well."
   ],
   "metadata": {
    "id": "HQEFV7C5wtZv",
    "pycharm": {
     "name": "#%% md\n"
    }
   },
   "id": "HQEFV7C5wtZv"
  },
  {
   "cell_type": "markdown",
   "source": [
    "## Loading the datasets\n",
    "\n",
    "\n",
    "First, we import the RawBeirDataset, RawBeirDatasets classes.\n",
    "\n",
    "The former is used to simply save the name and desired subsets of the selected CQADupStack dataset. All CQADupStack datasets contain only the testing subset out-of-the-box.\n",
    "\n",
    "The latter is necessary for the purpose of using multiple datasets at once. In this example, we combine the Android and Programmers datasets.\n",
    "\n",
    "It is necessary to define the path to the download directory, where the datasets will be stored. If a desired dataset is already present in this selected directory, repeated download will not be necessary.\n",
    "\n",
    "\n",
    "\n",
    "### CQADupStack contains 12 datasets:\n",
    "- Android\n",
    "- English\n",
    "- Gaming\n",
    "- GIS\n",
    "- Mathematica\n",
    "- Physics\n",
    "- Programmers\n",
    "- Stats\n",
    "- TeX\n",
    "- Unix\n",
    "- Webmasters\n",
    "- WordPress\n",
    "\n",
    "These are represented by theirs lowercase names.\n",
    "\n"
   ],
   "metadata": {
    "collapsed": false,
    "pycharm": {
     "name": "#%% md\n"
    }
   }
  },
  {
   "cell_type": "code",
   "execution_count": 3,
   "id": "f663c408-3cf8-4ad5-b6ca-8ab108c553df",
   "metadata": {
    "id": "f663c408-3cf8-4ad5-b6ca-8ab108c553df",
    "pycharm": {
     "name": "#%%\n"
    }
   },
   "outputs": [],
   "source": [
    "from pv211_utils.beir.entities import RawBeirDataset, RawBeirDatasets\n",
    "\n",
    "\n",
    "android = RawBeirDataset( \"android\", test = True)\n",
    "english = RawBeirDataset(\"english\", test = True)\n",
    "gaming = RawBeirDataset(\"gaming\", test = True)\n",
    "gis = RawBeirDataset(\"gis\", test = True)\n",
    "mathematica = RawBeirDataset(\"mathematica\", test = True)\n",
    "physics = RawBeirDataset(\"physics\", test = True)\n",
    "programmers = RawBeirDataset(\"programmers\", test = True)\n",
    "stats = RawBeirDataset(\"stats\", test = True)\n",
    "tex = RawBeirDataset(\"tex\", test = True)\n",
    "unix = RawBeirDataset(\"unix\",test = True)\n",
    "webmasters = RawBeirDataset(\"webmasters\", test = True)\n",
    "wordpress = RawBeirDataset(\"wordpress\", test = True)\n",
    "\n",
    "#programmers = RawBeirDataset(\"programmers\",test = True)\n",
    "#android = RawBeirDataset(\"android\",test = True)\n",
    "download_location = \"datasets\"\n",
    "desired_datasets = RawBeirDatasets([android,english,gaming,gis,mathematica,physics,programmers,stats,tex,unix,webmasters,wordpress],download_location)\n",
    "\n",
    "# If download_location is set to None or omitted and the data_path is set instead the data should not redownload\n",
    "# desired_datasets = RawBeirDatasets([android,english,gaming,gis,mathematica,physics,programmers,stats,tex,unix,webmasters,wordpress],data_path = \"datasets/cqadupstack\")\n",
    "\n"
   ]
  },
  {
   "cell_type": "markdown",
   "source": [
    "### Load and split raw data\n",
    "Once we have all the desired datasets defined we can load them, load_BEIR_datasets downloads (if necessary), loads, and prepares the raw data from the selected datasets.\n",
    "\n",
    "It returns three values:\n",
    "raw_train_data, raw_dev_data, raw_test_data,\n",
    "but as the train and dev subsets are not present in these datasets, these can be ignored.\n",
    "\n",
    "To get the train and dev(validation) subsets, we use the split_BEIR_dataset to split the original test data.\n",
    "\n"
   ],
   "metadata": {
    "id": "jo_45suJzxkX",
    "pycharm": {
     "name": "#%% md\n"
    }
   },
   "id": "jo_45suJzxkX"
  },
  {
   "cell_type": "code",
   "execution_count": 4,
   "id": "8f5a0b15-d2ee-405e-81be-64c627a02454",
   "metadata": {
    "colab": {
     "base_uri": "https://localhost:8080/"
    },
    "id": "8f5a0b15-d2ee-405e-81be-64c627a02454",
    "outputId": "dd471733-f0eb-43a1-f4ca-439a84caf99c",
    "pycharm": {
     "name": "#%%\n"
    }
   },
   "outputs": [
    {
     "output_type": "stream",
     "name": "stderr",
     "text": [
      "/usr/local/lib/python3.7/dist-packages/beir/util.py:2: TqdmExperimentalWarning: Using `tqdm.autonotebook.tqdm` in notebook mode. Use `tqdm.tqdm` instead to force console mode (e.g. in jupyter console)\n",
      "  from tqdm.autonotebook import tqdm\n"
     ]
    }
   ],
   "source": [
    "from pv211_utils.beir.loader import load_beir_datasets, split_beir_dataset\n",
    "\n",
    "\n",
    "_, _, raw_test_data = load_beir_datasets(desired_datasets)\n",
    "# Leave 90% for training and 10% for validation and testing\n",
    "raw_train_data, raw_test_data = split_beir_dataset(raw_test_data, split_factor=0.9)\n",
    "# Subsequently split this into 5% for validation and 5% for testing\n",
    "raw_dev_data, raw_train_data = split_beir_dataset(raw_train_data, split_factor=0.5)\n"
   ]
  },
  {
   "cell_type": "markdown",
   "source": [
    "### The loaded raw data consists of three parts.\n",
    "- corpus (the set of documents)\n",
    "- queries (the search terms)\n",
    "- qrels (the relevance judgements)"
   ],
   "metadata": {
    "id": "knotOm8k1IdG",
    "pycharm": {
     "name": "#%% md\n"
    }
   },
   "id": "knotOm8k1IdG"
  },
  {
   "cell_type": "code",
   "execution_count": 5,
   "id": "0d90f525-359f-4a4e-9937-e04665439268",
   "metadata": {
    "id": "0d90f525-359f-4a4e-9937-e04665439268",
    "pycharm": {
     "name": "#%%\n"
    }
   },
   "outputs": [],
   "source": [
    "raw_corpus_test = list(raw_test_data)[0]\n",
    "raw_queries_test = list(raw_test_data)[1]\n",
    "raw_qrels_test = list(raw_test_data)[2]\n",
    "\n",
    "raw_corpus_train = list(raw_train_data)[0]\n",
    "raw_queries_train = list(raw_train_data)[1]\n",
    "raw_qrels_train = list(raw_train_data)[2]\n",
    "\n",
    "raw_corpus_dev = list(raw_dev_data)[0]\n",
    "raw_queries_dev = list(raw_dev_data)[1]\n",
    "raw_qrels_dev = list(raw_dev_data)[2]"
   ]
  },
  {
   "cell_type": "markdown",
   "source": [
    "### Process the loaded data\n",
    "\n",
    "In order to use the loaded data it is necessary to process it.\n",
    "\n",
    "load_X functions return a list of the processed data.\n",
    "\n",
    "If desired or necessary it is possible to limit the number of used queries.\n",
    "(to speed up the evaluation)"
   ],
   "metadata": {
    "id": "8zj4JqY41rDS",
    "pycharm": {
     "name": "#%% md\n"
    }
   },
   "id": "8zj4JqY41rDS"
  },
  {
   "cell_type": "code",
   "execution_count": 6,
   "id": "21048042-693b-44c5-be92-63ba12783ef0",
   "metadata": {
    "id": "21048042-693b-44c5-be92-63ba12783ef0",
    "pycharm": {
     "name": "#%%\n"
    }
   },
   "outputs": [],
   "source": [
    "from pv211_utils.beir.loader import load_documents,load_queries,load_judgements\n",
    "\n",
    "# generally the same set of documents is used for train, dev, and test - no need to store it multiple times\n",
    "documents = load_documents(raw_corpus_test)\n",
    "max_test_queries = None # for HotpotQA I suggest for example just 200 test queries, None == use all avaialbe \n",
    "test_queries = load_queries(raw_queries_test,max_test_queries)\n",
    "test_judgements = load_judgements(test_queries,documents,raw_qrels_test)\n",
    "        \n"
   ]
  },
  {
   "cell_type": "markdown",
   "source": [
    "## Implement the Information Retrieval system\n",
    "\n",
    "Next, we will define a class named `IRSystem` that will represent your information retrieval system. Your class must define a method name `search` that takes a query and returns documents in descending order of relevance to the query.\n",
    "\n",
    "This example returns documents in a decreasing order according to\n",
    "a [*Okapi BestMatch25*](https://en.wikipedia.org/wiki/Okapi_BM25) similarity score between the documents and the given query.\n",
    "\n",
    "It also allows for the use of a [*re-ranking*](https://developers.google.com/machine-learning/recommendation/dnn/re-ranking) function, which takes the selected top k results from the base function and reorders them to achieve better results.\n",
    "\n",
    "You can use this example as the basis for your own implementation of an Information Retrieval System. Experiment with better suited preprocessing options. Try different base and re-ranking functions. Play around with the various hyperparameters, either by hand or you can use the dev subset to help you find the best setup. And of course, you can scratch this entire piece of code and make something completely new.\n",
    "\n",
    "\n"
   ],
   "metadata": {
    "id": "H6oU2MTN54pF",
    "pycharm": {
     "name": "#%% md\n"
    }
   },
   "id": "H6oU2MTN54pF"
  },
  {
   "cell_type": "code",
   "execution_count": 7,
   "id": "c30058ea-71b9-4e15-8105-4e427445ab06",
   "metadata": {
    "id": "c30058ea-71b9-4e15-8105-4e427445ab06",
    "pycharm": {
     "name": "#%%\n"
    }
   },
   "outputs": [],
   "source": [
    "import math\n",
    "import torch\n",
    "from typing import Iterable\n",
    "\n",
    "from multiprocessing import get_context, Pool\n",
    "from tqdm.notebook import tqdm\n",
    "\n",
    "from pv211_utils.beir.irsystem import BeirIRSystemBase\n",
    "from pv211_utils.beir.rerank import GenericReRank\n",
    "\n",
    "from gensim.utils import simple_preprocess\n",
    "from gensim.summarization import bm25\n",
    "from sentence_transformers import CrossEncoder\n",
    "\n",
    "\n",
    "\n",
    "class IRSystem(BeirIRSystemBase):\n",
    "    \"\"\"\n",
    "    A system that returns documents ordered based on the\n",
    "    Okapi BestMach25 score.\n",
    "\n",
    "    \"\"\"\n",
    "    def __init__(self,rerank_first_k = 0):\n",
    "        #with Pool(None) as pool:    # None means all CPUs\n",
    "        document_bodies = (simple_preprocess(doc.body) for doc in documents.values())\n",
    "        document_bodies = tqdm(document_bodies, desc='Preprocessing documents', total=len(documents))\n",
    "        index_to_document = dict(enumerate(documents.values()))\n",
    "        self.index_to_document = index_to_document\n",
    "        bm25_model = bm25.BM25(document_bodies)\n",
    "        self.bm25_model = bm25_model\n",
    "        self.rerank_first_k = rerank_first_k\n",
    "        if rerank_first_k != 0:\n",
    "            cross_encoder = CrossEncoder(\"cross-encoder/ms-marco-MiniLM-L-6-v2\", device=\"cuda\")\n",
    "            self.reranker = GenericReRank(cross_encoder)\n",
    "\n",
    "\n",
    "    def search(self, query: Query) -> Iterable[Document]:\n",
    "        query_doc = simple_preprocess(query.body)\n",
    "        similarities = enumerate(self.bm25_model.get_scores(query_doc))\n",
    "        similarities = sorted(similarities, key=lambda item: item[1], reverse=True)\n",
    "        ranked_documents = (self.index_to_document[i] for i,_ in similarities)\n",
    "\n",
    "        if self.rerank_first_k !=0:\n",
    "            #Re-ranking top k results\n",
    "            reranked = self.reranker.rerank_top_k(query, ranked_documents, self.rerank_first_k)\n",
    "            for doc in reranked:\n",
    "                yield doc\n",
    "        # Yield the rest\n",
    "        for doc in ranked_documents: \n",
    "            yield doc\n",
    "\n"
   ]
  },
  {
   "cell_type": "markdown",
   "source": [
    "### Evaluate the system on a given dataset\n",
    "\n",
    "Lastly, we will evaluate the IR system using the [Mean Average Precision](https://en.wikipedia.org/wiki/Evaluation_measures_(information_retrieval)#Mean_average_precision) (MAP).\n",
    "\n",
    "Set the rerank_first_k parameter to a nonzero number such as a 100 to use the reranking function on the top k results of every search.\n",
    "\n"
   ],
   "metadata": {
    "id": "EiuNlaI76EPe",
    "pycharm": {
     "name": "#%% md\n"
    }
   },
   "id": "EiuNlaI76EPe"
  },
  {
   "cell_type": "code",
   "execution_count": null,
   "id": "ec5491dd-7bce-4b05-b2f5-154805f282d0",
   "metadata": {
    "id": "ec5491dd-7bce-4b05-b2f5-154805f282d0",
    "pycharm": {
     "name": "#%%\n"
    }
   },
   "outputs": [],
   "source": [
    "from pv211_utils.beir.eval import BeirEvaluation\n",
    "from pv211_utils.beir.leaderboard import BeirLeaderboard\n",
    "\n",
    "submit_result = False\n",
    "author_name = 'Surname, Name'\n",
    "system = IRSystem(rerank_first_k=0)\n",
    "\n",
    "evaluation = BeirEvaluation(system, test_judgements, BeirLeaderboard(), author_name, num_workers=1)\n",
    "evaluation.evaluate(tqdm(test_queries.values(), desc='Querying the system'), submit_result)"
   ]
  }
 ],
 "metadata": {
  "kernelspec": {
   "display_name": "Python 3 (ipykernel)",
   "language": "python",
   "name": "python3"
  },
  "language_info": {
   "codemirror_mode": {
    "name": "ipython",
    "version": 3
   },
   "file_extension": ".py",
   "mimetype": "text/x-python",
   "name": "python",
   "nbconvert_exporter": "python",
   "pygments_lexer": "ipython3",
   "version": "3.8.10"
  },
  "colab": {
   "name": "TermFrequency-InverseDocumentFrequency_example.ipynb",
   "provenance": []
  },
  "gpuClass": "standard"
 },
 "nbformat": 4,
 "nbformat_minor": 5
}